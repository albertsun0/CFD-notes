{
 "cells": [
  {
   "cell_type": "markdown",
   "metadata": {},
   "source": [
    "### 1D Linear Convection\n",
    "\n",
    "Propogation of a wave with constant speed $c$, without change in shape\n",
    "\n",
    "$\\frac{\\partial u}{\\partial  t} + c \\frac{\\partial u}{\\partial  x} = 0$\n",
    "\n",
    "where:\n",
    "\n",
    "- $u(x,t)$ is the function of the wave\n",
    "- $c$ is the convection speed\n",
    "- $x$ is spacial coordinate\n",
    "- $t$ is time\n",
    "\n",
    "$\\frac{\\partial u}{\\partial t}$ - tells us how $u$ evolves over time, given fixed $x$\n",
    "\n",
    "$\\frac{\\partial u}{\\partial  x}$ - tells us how u varies across space at a fixed time\n",
    "\n",
    "if $u(x,y)$ represents smoke concentration,\n",
    "- $\\frac{\\partial u}{\\partial t}$ represents how concentration at a point changes over time\n",
    "- $\\frac{\\partial u}{\\partial  x}$ represents how smoke concentration changes from one location to another\n",
    "\n",
    "#### Discretize Equation\n",
    "\n",
    "By the defination of derivative (forward difference):\n",
    "\n",
    "$\\frac{\\partial u}{\\partial x} \\approx \\frac{u(x + \\Delta x) - u(x)}{\\Delta x}$\n",
    "\n",
    "So we can substitute our equation as, where $n$, $n+1$ are two consecutive time steps, and $i$, $i + 1$ are two neighboring points in discretized $x$:\n",
    "\n",
    "$\\frac{u_i^{n+1} - u_i^n}{\\Delta t} + c \\frac{u_{i}^{n} - u_{i-1}^n}{\\Delta x} = 0$\n",
    "\n",
    "In this example, we use forward difference for the time derivative, and backwards difference for the sapce derivative.\n",
    "\n",
    "Given intial conditions, our only unknown is $u_i^{n+1}$, so rearranging we get:\n",
    "\n",
    "$u_i^{n+1} = u_i^n - c \\frac{\\Delta t}{\\Delta x} (u_{i}^{n} - u_{i-1}^n) $"
   ]
  },
  {
   "cell_type": "code",
   "execution_count": 2,
   "metadata": {},
   "outputs": [],
   "source": [
    "import numpy as np\n",
    "from matplotlib import pyplot as plt\n",
    "import time, sys\n",
    "%matplotlib inline "
   ]
  },
  {
   "cell_type": "code",
   "execution_count": 3,
   "metadata": {},
   "outputs": [],
   "source": [
    "nx = 41 # 41 grid points\n",
    "dx = 2 / (nx - 1) # spaced 2 units apart\n",
    "nt = 25 # number of timesteps\n",
    "dt = 0.025\n",
    "c = 1 # wave speed"
   ]
  },
  {
   "cell_type": "markdown",
   "metadata": {},
   "source": []
  }
 ],
 "metadata": {
  "kernelspec": {
   "display_name": "Python 3",
   "language": "python",
   "name": "python3"
  },
  "language_info": {
   "codemirror_mode": {
    "name": "ipython",
    "version": 3
   },
   "file_extension": ".py",
   "mimetype": "text/x-python",
   "name": "python",
   "nbconvert_exporter": "python",
   "pygments_lexer": "ipython3",
   "version": "3.9.6"
  }
 },
 "nbformat": 4,
 "nbformat_minor": 2
}
